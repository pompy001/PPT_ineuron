{
 "cells": [
  {
   "cell_type": "markdown",
   "id": "42a9eb53",
   "metadata": {},
   "source": [
    "<aside>\n",
    "💡 **Q1.** Given an array of integers nums and an integer target, return indices of the two numbers such that they add up to target.\n",
    "\n",
    "You may assume that each input would have exactly one solution, and you may not use the same element twice.\n",
    "\n",
    "You can return the answer in any order.\n",
    "\n",
    "**Example:**\n",
    "Input: nums = [2,7,11,15], target = 9\n",
    "Output0 [0,1]\n",
    "\n",
    "**Explanation:** Because nums[0] + nums[1] == 9, we return [0, 1][\n",
    "\n",
    "</aside>"
   ]
  },
  {
   "cell_type": "code",
   "execution_count": 63,
   "id": "a47842fb",
   "metadata": {},
   "outputs": [],
   "source": [
    "def twosum(array,target):\n",
    "    left = 0\n",
    "    right = len(array)-1\n",
    "    sorted_array = sorted(array)\n",
    "    while left<right:\n",
    "        sum_ = sorted_array[left]+ sorted_array[right]\n",
    "        if sum_<target:\n",
    "            left = left+1\n",
    "        elif sum_==target:\n",
    "            return [array.index(sorted_array[left]),array.index(sorted_array[right])]\n",
    "        else:\n",
    "            right= right-1\n",
    "    return []"
   ]
  },
  {
   "cell_type": "code",
   "execution_count": 64,
   "id": "64489336",
   "metadata": {},
   "outputs": [],
   "source": [
    "l = [2,7,11,15]"
   ]
  },
  {
   "cell_type": "code",
   "execution_count": 65,
   "id": "228ac648",
   "metadata": {},
   "outputs": [
    {
     "data": {
      "text/plain": [
       "[0, 1]"
      ]
     },
     "execution_count": 65,
     "metadata": {},
     "output_type": "execute_result"
    }
   ],
   "source": [
    "twosum(l,9)"
   ]
  },
  {
   "cell_type": "markdown",
   "id": "4cc62f25",
   "metadata": {},
   "source": [
    "<aside>\n",
    "💡 **Q2.** Given an integer array nums and an integer val, remove all occurrences of val in nums in-place. The order of the elements may be changed. Then return the number of elements in nums which are not equal to val.\n",
    "\n",
    "Consider the number of elements in nums which are not equal to val be k, to get accepted, you need to do the following things:\n",
    "\n",
    "- Change the array nums such that the first k elements of nums contain the elements which are not equal to val. The remaining elements of nums are not important as well as the size of nums.\n",
    "- Return k.\n",
    "\n",
    "**Example :**\n",
    "Input: nums = [3,2,2,3], val = 3\n",
    "Output: 2, nums = [2,2,_*,_*]\n",
    "\n",
    "**Explanation:** Your function should return k = 2, with the first two elements of nums being 2. It does not matter what you leave beyond the returned k (hence they are underscores)[\n",
    "\n",
    "</aside>"
   ]
  },
  {
   "cell_type": "code",
   "execution_count": 76,
   "id": "754da29b",
   "metadata": {},
   "outputs": [],
   "source": [
    "def removeElement(nums, val):\n",
    "    i = 0\n",
    "    for j in range(len(nums)):\n",
    "        if nums[j] != val:\n",
    "            nums[i] = nums[j]\n",
    "            i += 1\n",
    "    return i"
   ]
  },
  {
   "cell_type": "code",
   "execution_count": 77,
   "id": "a7e23381",
   "metadata": {},
   "outputs": [],
   "source": [
    "l = [3,2,2,3]"
   ]
  },
  {
   "cell_type": "code",
   "execution_count": 78,
   "id": "e001bcca",
   "metadata": {},
   "outputs": [
    {
     "data": {
      "text/plain": [
       "2"
      ]
     },
     "execution_count": 78,
     "metadata": {},
     "output_type": "execute_result"
    }
   ],
   "source": [
    "removeElement(l,3)"
   ]
  },
  {
   "cell_type": "markdown",
   "id": "907442be",
   "metadata": {},
   "source": [
    "<aside>\n",
    "💡 **Q3.** Given a sorted array of distinct integers and a target value, return the index if the target is found. If not, return the index where it would be if it were inserted in order.\n",
    "\n",
    "You must write an algorithm with O(log n) runtime complexity.\n",
    "\n",
    "**Example 1:**\n",
    "Input: nums = [1,3,5,6], target = 5\n",
    "\n",
    "Output: 2\n",
    "\n",
    "</aside>"
   ]
  },
  {
   "cell_type": "code",
   "execution_count": 106,
   "id": "e9f1638e",
   "metadata": {},
   "outputs": [],
   "source": [
    "#bruteforce\n",
    "def findNum(array,num):\n",
    "        if num in array:\n",
    "            return array.index(num)\n",
    "        else:\n",
    "            array.append(num)\n",
    "            array.sort()\n",
    "            return findNum(array,num)\n",
    "        "
   ]
  },
  {
   "cell_type": "code",
   "execution_count": 110,
   "id": "35fdb50e",
   "metadata": {},
   "outputs": [
    {
     "data": {
      "text/plain": [
       "2"
      ]
     },
     "execution_count": 110,
     "metadata": {},
     "output_type": "execute_result"
    }
   ],
   "source": [
    "l = [1,3,5,6]\n",
    "findNum(l,5)"
   ]
  },
  {
   "cell_type": "code",
   "execution_count": 112,
   "id": "092658f0",
   "metadata": {},
   "outputs": [],
   "source": [
    "def findNum(array,num):\n",
    "    start , end = 0 , len(array)-1\n",
    "    while start<=end:\n",
    "        mid = (start + end )//2\n",
    "        if array[mid]==num:\n",
    "            return mid\n",
    "        elif array[mid]<num:\n",
    "            start = mid +1\n",
    "        else:\n",
    "            end = mid-1\n",
    "    return start\n",
    "            "
   ]
  },
  {
   "cell_type": "code",
   "execution_count": 116,
   "id": "75e94e11",
   "metadata": {},
   "outputs": [
    {
     "data": {
      "text/plain": [
       "0"
      ]
     },
     "execution_count": 116,
     "metadata": {},
     "output_type": "execute_result"
    }
   ],
   "source": [
    "l = []\n",
    "findNum(l,9)"
   ]
  },
  {
   "cell_type": "markdown",
   "id": "efac3f1c",
   "metadata": {},
   "source": [
    "<aside>\n",
    "💡 **Q4.** You are given a large integer represented as an integer array digits, where each digits[i] is the ith digit of the integer. The digits are ordered from most significant to least significant in left-to-right order. The large integer does not contain any leading 0's.\n",
    "\n",
    "Increment the large integer by one and return the resulting array of digits.\n",
    "\n",
    "**Example 1:**\n",
    "Input: digits = [1,2,3]\n",
    "Output: [1,2,4]\n",
    "\n",
    "**Explanation:** The array represents the integer 123.\n",
    "\n",
    "Incrementing by one gives 123 + 1 = 124.\n",
    "Thus, the result should be [1,2,4].\n",
    "\n",
    "</aside>"
   ]
  },
  {
   "cell_type": "code",
   "execution_count": 149,
   "id": "43a751c1",
   "metadata": {},
   "outputs": [],
   "source": [
    "def numInc(num):\n",
    "    carry =1\n",
    "    for i in range(len(num)-1,-1,-1):\n",
    "        num[i]+=carry\n",
    "        carry = num[i]//10\n",
    "        num[i]=num[i]%10\n",
    "        if carry ==0:\n",
    "            break\n",
    "    if carry == 1:\n",
    "        num.insert(0, 1)\n",
    "    return num\n",
    "        \n",
    "            "
   ]
  },
  {
   "cell_type": "code",
   "execution_count": 150,
   "id": "2bbbbc1b",
   "metadata": {},
   "outputs": [],
   "source": [
    "num=[1,2,3]"
   ]
  },
  {
   "cell_type": "code",
   "execution_count": 151,
   "id": "a4dad2fb",
   "metadata": {},
   "outputs": [
    {
     "data": {
      "text/plain": [
       "[1, 2, 4]"
      ]
     },
     "execution_count": 151,
     "metadata": {},
     "output_type": "execute_result"
    }
   ],
   "source": [
    "numInc(num)"
   ]
  },
  {
   "cell_type": "markdown",
   "id": "ecbc81d3",
   "metadata": {},
   "source": [
    "<aside>\n",
    "💡 **Q5.** You are given two integer arrays nums1 and nums2, sorted in non-decreasing order, and two integers m and n, representing the number of elements in nums1 and nums2 respectively.\n",
    "\n",
    "Merge nums1 and nums2 into a single array sorted in non-decreasing order.\n",
    "\n",
    "The final sorted array should not be returned by the function, but instead be stored inside the array nums1. To accommodate this, nums1 has a length of m + n, where the first m elements denote the elements that should be merged, and the last n elements are set to 0 and should be ignored. nums2 has a length of n.\n",
    "\n",
    "**Example 1:**\n",
    "Input: nums1 = [1,2,3,0,0,0], m = 3, nums2 = [2,5,6], n = 3\n",
    "Output: [1,2,2,3,5,6]\n",
    "\n",
    "**Explanation:** The arrays we are merging are [1,2,3] and [2,5,6].\n",
    "The result of the merge is [1,2,2,3,5,6] with the underlined elements coming from nums1.\n",
    "\n",
    "</aside>"
   ]
  },
  {
   "cell_type": "code",
   "execution_count": 164,
   "id": "be7e8c2b",
   "metadata": {},
   "outputs": [],
   "source": [
    "def mergeArray(num1,m,num2,n):\n",
    "    p1 = m-1\n",
    "    p2 = n-1\n",
    "    p = m+n-1\n",
    "    while p1>=0 and p2>=0:\n",
    "        if num1[p1]>=num2[p2]:\n",
    "            num1[p]=num1[p1]\n",
    "            p1=p1-1\n",
    "        else:\n",
    "            num1[p]=num2[p2]\n",
    "            p2 = p2-1\n",
    "        p = p-1\n",
    "    while p2 >= 0:\n",
    "        nums1[p] = nums2[p2]\n",
    "        p2 -= 1\n",
    "        p -= 1"
   ]
  },
  {
   "cell_type": "code",
   "execution_count": 165,
   "id": "ab6ed540",
   "metadata": {},
   "outputs": [],
   "source": [
    "num1 = [1,2,3,0,0,0]\n",
    "m= 3\n",
    "num2 = [2,5,6]\n",
    "n=3"
   ]
  },
  {
   "cell_type": "code",
   "execution_count": 166,
   "id": "06e8810c",
   "metadata": {},
   "outputs": [],
   "source": [
    "mergeArray(num1,m,num2,n)"
   ]
  },
  {
   "cell_type": "code",
   "execution_count": 167,
   "id": "881f1e49",
   "metadata": {},
   "outputs": [
    {
     "data": {
      "text/plain": [
       "[1, 2, 2, 3, 5, 6]"
      ]
     },
     "execution_count": 167,
     "metadata": {},
     "output_type": "execute_result"
    }
   ],
   "source": [
    "num1"
   ]
  },
  {
   "cell_type": "markdown",
   "id": "3bb0f9ad",
   "metadata": {},
   "source": [
    "<aside>\n",
    "💡 **Q6.** Given an integer array nums, return true if any value appears at least twice in the array, and return false if every element is distinct.\n",
    "\n",
    "**Example 1:**\n",
    "Input: nums = [1,2,3,1]\n",
    "\n",
    "Output: true\n",
    "\n",
    "</aside>"
   ]
  },
  {
   "cell_type": "code",
   "execution_count": 168,
   "id": "d4513c3b",
   "metadata": {},
   "outputs": [],
   "source": [
    "def repeatChecker(nums):\n",
    "    flag = False\n",
    "    m = len(nums)\n",
    "    n = len(list(set(nums)))\n",
    "    if n<m:\n",
    "        flag = True\n",
    "    return flag\n",
    "        "
   ]
  },
  {
   "cell_type": "code",
   "execution_count": 169,
   "id": "1d504606",
   "metadata": {},
   "outputs": [
    {
     "data": {
      "text/plain": [
       "True"
      ]
     },
     "execution_count": 169,
     "metadata": {},
     "output_type": "execute_result"
    }
   ],
   "source": [
    "repeatChecker([1,2,3,1])"
   ]
  },
  {
   "cell_type": "code",
   "execution_count": 170,
   "id": "39db38d6",
   "metadata": {},
   "outputs": [
    {
     "data": {
      "text/plain": [
       "False"
      ]
     },
     "execution_count": 170,
     "metadata": {},
     "output_type": "execute_result"
    }
   ],
   "source": [
    "repeatChecker([2,3,1])"
   ]
  },
  {
   "cell_type": "markdown",
   "id": "5d23e098",
   "metadata": {},
   "source": [
    "<aside>\n",
    "💡 **Q7.** Given an integer array nums, move all 0's to the end of it while maintaining the relative order of the nonzero elements.\n",
    "\n",
    "Note that you must do this in-place without making a copy of the array.\n",
    "\n",
    "**Example 1:**\n",
    "Input: nums = [0,1,0,3,12]\n",
    "Output: [1,3,12,0,0]\n",
    "\n",
    "</aside>"
   ]
  },
  {
   "cell_type": "code",
   "execution_count": 25,
   "id": "f6031b16",
   "metadata": {},
   "outputs": [],
   "source": [
    "def moveZero(nums):\n",
    "    left =0\n",
    "    right = 0\n",
    "    while right<len(nums):\n",
    "        if nums[right]!=0:\n",
    "            nums[left],nums[right]=nums[right],nums[left]\n",
    "            left =left+1\n",
    "        right = right +1 \n",
    "    return nums"
   ]
  },
  {
   "cell_type": "code",
   "execution_count": 26,
   "id": "fdea167e",
   "metadata": {},
   "outputs": [],
   "source": [
    "l = [0,1,0,3,12] "
   ]
  },
  {
   "cell_type": "code",
   "execution_count": 27,
   "id": "85a4648d",
   "metadata": {},
   "outputs": [
    {
     "data": {
      "text/plain": [
       "[1, 3, 12, 0, 0]"
      ]
     },
     "execution_count": 27,
     "metadata": {},
     "output_type": "execute_result"
    }
   ],
   "source": [
    "moveZero(l)"
   ]
  },
  {
   "cell_type": "markdown",
   "id": "df67b174",
   "metadata": {},
   "source": [
    "<aside>\n",
    "💡 **Q8.** You have a set of integers s, which originally contains all the numbers from 1 to n. Unfortunately, due to some error, one of the numbers in s got duplicated to another number in the set, which results in repetition of one number and loss of another number.\n",
    "\n",
    "You are given an integer array nums representing the data status of this set after the error.\n",
    "\n",
    "Find the number that occurs twice and the number that is missing and return them in the form of an array.\n",
    "\n",
    "**Example 1:**\n",
    "Input: nums = [1,2,2,4]\n",
    "Output: [2,3]\n",
    "\n",
    "</aside>"
   ]
  },
  {
   "cell_type": "code",
   "execution_count": 82,
   "id": "6fe9ee66",
   "metadata": {},
   "outputs": [],
   "source": [
    "def numFinder(nums):\n",
    "    n = len(nums)\n",
    "    x=list(set([i for i in nums if nums.count(i)>1]))\n",
    "    x.append((n * (n + 1) // 2) - sum(set(nums)))\n",
    "    return x\n",
    "    \n",
    "        \n",
    "        "
   ]
  },
  {
   "cell_type": "code",
   "execution_count": 83,
   "id": "2b859abf",
   "metadata": {},
   "outputs": [
    {
     "data": {
      "text/plain": [
       "[4, 5]"
      ]
     },
     "execution_count": 83,
     "metadata": {},
     "output_type": "execute_result"
    }
   ],
   "source": [
    "numFinder([1,2,3,4,4])"
   ]
  },
  {
   "cell_type": "code",
   "execution_count": null,
   "id": "7651c30a",
   "metadata": {},
   "outputs": [],
   "source": []
  },
  {
   "cell_type": "code",
   "execution_count": 75,
   "id": "a0bd8c7b",
   "metadata": {},
   "outputs": [],
   "source": []
  },
  {
   "cell_type": "code",
   "execution_count": null,
   "id": "c36440aa",
   "metadata": {},
   "outputs": [],
   "source": []
  },
  {
   "cell_type": "code",
   "execution_count": null,
   "id": "82455726",
   "metadata": {},
   "outputs": [],
   "source": [
    "\n"
   ]
  },
  {
   "cell_type": "code",
   "execution_count": null,
   "id": "2c743d58",
   "metadata": {},
   "outputs": [],
   "source": []
  },
  {
   "cell_type": "code",
   "execution_count": null,
   "id": "c86e35c2",
   "metadata": {},
   "outputs": [],
   "source": []
  },
  {
   "cell_type": "code",
   "execution_count": null,
   "id": "a802b4ce",
   "metadata": {},
   "outputs": [],
   "source": []
  }
 ],
 "metadata": {
  "kernelspec": {
   "display_name": "Python 3 (ipykernel)",
   "language": "python",
   "name": "python3"
  },
  "language_info": {
   "codemirror_mode": {
    "name": "ipython",
    "version": 3
   },
   "file_extension": ".py",
   "mimetype": "text/x-python",
   "name": "python",
   "nbconvert_exporter": "python",
   "pygments_lexer": "ipython3",
   "version": "3.9.6"
  }
 },
 "nbformat": 4,
 "nbformat_minor": 5
}
