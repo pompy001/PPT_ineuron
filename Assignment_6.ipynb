{
 "cells": [
  {
   "cell_type": "markdown",
   "id": "f3465c1f",
   "metadata": {},
   "source": [
    "<aside>\n",
    "💡 **Question 1**\n",
    "\n",
    "A permutation perm of n + 1 integers of all the integers in the range [0, n] can be represented as a string s of length n where:\n",
    "\n",
    "- s[i] == 'I' if perm[i] < perm[i + 1], and\n",
    "- s[i] == 'D' if perm[i] > perm[i + 1].\n",
    "\n",
    "Given a string s, reconstruct the permutation perm and return it. If there are multiple valid permutations perm, return **any of them**.\n",
    "\n",
    "**Example 1:**\n",
    "\n",
    "**Input:** s = \"IDID\"\n",
    "\n",
    "**Output:**\n",
    "\n",
    "[0,4,1,3,2]\n",
    "\n",
    "</aside>"
   ]
  },
  {
   "cell_type": "code",
   "execution_count": 1,
   "id": "b9991c3f",
   "metadata": {},
   "outputs": [],
   "source": [
    "def reconstruct_perm(s):\n",
    "    perm = []\n",
    "    n = len(s)\n",
    "    low,high = 0,n\n",
    "    for i in s:\n",
    "        if i =='I':\n",
    "            perm.append(low)\n",
    "            low+=1\n",
    "        else:\n",
    "            perm.append(high)\n",
    "            high-=1\n",
    "    return perm"
   ]
  },
  {
   "cell_type": "code",
   "execution_count": 2,
   "id": "d6ff61bf",
   "metadata": {},
   "outputs": [],
   "source": [
    "s = \"IDID\""
   ]
  },
  {
   "cell_type": "code",
   "execution_count": 3,
   "id": "fea2814a",
   "metadata": {},
   "outputs": [
    {
     "data": {
      "text/plain": [
       "[0, 4, 1, 3]"
      ]
     },
     "execution_count": 3,
     "metadata": {},
     "output_type": "execute_result"
    }
   ],
   "source": [
    "reconstruct_perm(s)"
   ]
  },
  {
   "cell_type": "markdown",
   "id": "675597ed",
   "metadata": {},
   "source": [
    "<aside>\n",
    "💡 **Question 2**\n",
    "\n",
    "You are given an m x n integer matrix matrix with the following two properties:\n",
    "\n",
    "- Each row is sorted in non-decreasing order.\n",
    "- The first integer of each row is greater than the last integer of the previous row.\n",
    "\n",
    "Given an integer target, return true *if* target *is in* matrix *or* false *otherwise*.\n",
    "\n",
    "You must write a solution in O(log(m * n)) time complexity.\n",
    "\n",
    "**Example 1:**\n",
    "\n",
    "**Input:** matrix = [[1,3,5,7],[10,11,16,20],[23,30,34,60]], target = 3\n",
    "\n",
    "**Output:** true"
   ]
  },
  {
   "cell_type": "code",
   "execution_count": 4,
   "id": "f55c3478",
   "metadata": {},
   "outputs": [],
   "source": [
    "def inmatrix(matrix,target):\n",
    "    row=[]\n",
    "    start = 0\n",
    "    flag = False\n",
    "    for i in matrix:\n",
    "        if min(i)<target and max(i)>=target:\n",
    "            row=i\n",
    "    end = len(row)-1\n",
    "    while start<end:\n",
    "        mid = (start+end)//2\n",
    "        if row[mid]==target:\n",
    "            flag = True\n",
    "            return flag\n",
    "        elif row[mid]<target:\n",
    "            start=+1\n",
    "        else:\n",
    "            end-=1\n",
    "    return flag"
   ]
  },
  {
   "cell_type": "code",
   "execution_count": 5,
   "id": "76654eed",
   "metadata": {},
   "outputs": [],
   "source": [
    "matrix = [[1,3,5,7],[10,11,16,20],[23,30,34,60]]\n",
    "target = 3"
   ]
  },
  {
   "cell_type": "code",
   "execution_count": 6,
   "id": "f1e609b8",
   "metadata": {},
   "outputs": [
    {
     "data": {
      "text/plain": [
       "True"
      ]
     },
     "execution_count": 6,
     "metadata": {},
     "output_type": "execute_result"
    }
   ],
   "source": [
    "inmatrix(matrix,target)"
   ]
  },
  {
   "cell_type": "markdown",
   "id": "0d7a1536",
   "metadata": {},
   "source": [
    "<aside>\n",
    "💡 **Question 3**\n",
    "\n",
    "Given an array of integers arr, return *true if and only if it is a valid mountain array*.\n",
    "\n",
    "Recall that arr is a mountain array if and only if:\n",
    "\n",
    "- arr.length >= 3\n",
    "- There exists some i with 0 < i < arr.length - 1 such that:\n",
    "    - arr[0] < arr[1] < ... < arr[i - 1] < arr[i]\n",
    "    - arr[i] > arr[i + 1] > ... > arr[arr.length - 1]\n",
    "</aside>"
   ]
  },
  {
   "cell_type": "code",
   "execution_count": 33,
   "id": "bb865f3c",
   "metadata": {},
   "outputs": [],
   "source": [
    "def isMountainArray(arr):\n",
    "    if len(arr)<3:\n",
    "        return False\n",
    "    left =0\n",
    "    right= len(arr)-1\n",
    "    while left<len(arr)-1 and arr[left]<arr[left+1]:\n",
    "        left+=1\n",
    "    while right>0 and arr[right-1]>arr[right]:\n",
    "        right-=1\n",
    "    return left==right"
   ]
  },
  {
   "cell_type": "code",
   "execution_count": 34,
   "id": "39989929",
   "metadata": {},
   "outputs": [
    {
     "data": {
      "text/plain": [
       "True"
      ]
     },
     "execution_count": 34,
     "metadata": {},
     "output_type": "execute_result"
    }
   ],
   "source": [
    "isMountainArray([0,2,3,4,5,2,1,0])"
   ]
  },
  {
   "cell_type": "markdown",
   "id": "dd6c5b62",
   "metadata": {},
   "source": [
    "<aside>\n",
    "💡 **Question 4**\n",
    "\n",
    "Given a binary array nums, return *the maximum length of a contiguous subarray with an equal number of* 0 *and* 1.\n",
    "\n",
    "**Example 1:**\n",
    "\n",
    "**Input:** nums = [0,1]\n",
    "\n",
    "**Output:** 2\n",
    "\n",
    "**Explanation:**\n",
    "\n",
    "[0, 1] is the longest contiguous subarray with an equal number of 0 and 1.\n",
    "\n",
    "</aside>"
   ]
  },
  {
   "cell_type": "code",
   "execution_count": 13,
   "id": "d6574ae4",
   "metadata": {},
   "outputs": [],
   "source": [
    "def findMaxLength(nums):\n",
    "    maxLen = 0\n",
    "    cumulativeSum = 0\n",
    "    sumCount = {0: -1}  # Initial sum of 0 with an index of -1\n",
    "    \n",
    "    for i in range(len(nums)):\n",
    "        if nums[i] == 0:\n",
    "            cumulativeSum -= 1\n",
    "        else:\n",
    "            cumulativeSum += 1\n",
    "        \n",
    "        if cumulativeSum in sumCount:\n",
    "\n",
    "            maxLen = max(maxLen, i - sumCount[cumulativeSum])\n",
    "        else:\n",
    "            sumCount[cumulativeSum] = i\n",
    "\n",
    "    return maxLen\n"
   ]
  },
  {
   "cell_type": "code",
   "execution_count": 14,
   "id": "43a81365",
   "metadata": {},
   "outputs": [
    {
     "data": {
      "text/plain": [
       "2"
      ]
     },
     "execution_count": 14,
     "metadata": {},
     "output_type": "execute_result"
    }
   ],
   "source": [
    "findMaxLength([0,1])"
   ]
  },
  {
   "cell_type": "markdown",
   "id": "70407e04",
   "metadata": {},
   "source": [
    "<aside>\n",
    "💡 **Question 5**\n",
    "\n",
    "The **product sum** of two equal-length arrays a and b is equal to the sum of a[i] * b[i] for all 0 <= i < a.length (**0-indexed**).\n",
    "\n",
    "- For example, if a = [1,2,3,4] and b = [5,2,3,1], the **product sum** would be 1*5 + 2*2 + 3*3 + 4*1 = 22.\n",
    "\n",
    "Given two arrays nums1 and nums2 of length n, return *the **minimum product sum** if you are allowed to **rearrange** the **order** of the elements in* nums1.\n",
    "\n",
    "**Example 1:**\n",
    "\n",
    "**Input:** nums1 = [5,3,4,2], nums2 = [4,2,2,5]\n",
    "\n",
    "**Output:** 40\n",
    "\n",
    "**Explanation:**\n",
    "\n",
    "We can rearrange nums1 to become [3,5,4,2]. The product sum of [3,5,4,2] and [4,2,2,5] is 3*4 + 5*2 + 4*2 + 2*5 = 40.\n",
    "\n",
    "</aside>"
   ]
  },
  {
   "cell_type": "code",
   "execution_count": 17,
   "id": "f11ab327",
   "metadata": {},
   "outputs": [],
   "source": [
    "import heapq\n",
    "\n",
    "def minProductSum(nums1, nums2):\n",
    "    pq = [-num for num in nums1]\n",
    "    heapq.heapify(pq)\n",
    "    minProductSum = 0\n",
    "\n",
    "    nums2.sort()\n",
    "\n",
    "    for num in nums2:\n",
    "        max_num = heapq.heappop(pq)\n",
    "        minProductSum += -max_num * num\n",
    "\n",
    "    return minProductSum\n"
   ]
  },
  {
   "cell_type": "code",
   "execution_count": 18,
   "id": "cd81bb50",
   "metadata": {},
   "outputs": [
    {
     "data": {
      "text/plain": [
       "40"
      ]
     },
     "execution_count": 18,
     "metadata": {},
     "output_type": "execute_result"
    }
   ],
   "source": [
    "minProductSum([3,5,4,2], [4,2,2,5])"
   ]
  },
  {
   "cell_type": "markdown",
   "id": "93961e06",
   "metadata": {},
   "source": [
    "An integer array original is transformed into a **doubled** array changed by appending **twice the value** of every element in original, and then randomly **shuffling** the resulting array.\n",
    "\n",
    "Given an array changed, return original *if* changed *is a **doubled** array. If* changed *is not a **doubled** array, return an empty array. The elements in* original *may be returned in **any** order*.\n",
    "\n",
    "**Example 1:**\n",
    "\n",
    "**Input:** changed = [1,3,4,2,6,8]\n",
    "\n",
    "**Output:** [1,3,4]\n",
    "\n",
    "**Explanation:** One possible original array could be [1,3,4]:\n",
    "\n",
    "- Twice the value of 1 is 1 * 2 = 2.\n",
    "- Twice the value of 3 is 3 * 2 = 6.\n",
    "- Twice the value of 4 is 4 * 2 = 8.\n",
    "\n",
    "Other original arrays could be [4,3,1] or [3,1,4]."
   ]
  },
  {
   "cell_type": "code",
   "execution_count": 36,
   "id": "5f60c4c1",
   "metadata": {},
   "outputs": [],
   "source": [
    "def originalArray(nums):\n",
    "    count={}\n",
    "    for i in nums:\n",
    "        count[i]=count.get(i,0)+1\n",
    "    original = []\n",
    "    for i in nums:\n",
    "        if count.get(i,0)>0 and count.get(i*2,0)>0:\n",
    "            original.append(i)\n",
    "            count[i*2]-=1\n",
    "            count[i]-=1\n",
    "    return original"
   ]
  },
  {
   "cell_type": "code",
   "execution_count": 37,
   "id": "621888d3",
   "metadata": {},
   "outputs": [
    {
     "data": {
      "text/plain": [
       "[1, 3, 4]"
      ]
     },
     "execution_count": 37,
     "metadata": {},
     "output_type": "execute_result"
    }
   ],
   "source": [
    "originalArray([1,3,4,2,6,8])"
   ]
  },
  {
   "cell_type": "markdown",
   "id": "775c14ac",
   "metadata": {},
   "source": [
    "<aside>\n",
    "💡 **Question 7**\n",
    "\n",
    "Given a positive integer n, generate an n x n matrix filled with elements from 1 to n2 in spiral order.\n",
    "\n",
    "**Example 1:**\n",
    "    \n",
    "**Input:** n = 3\n",
    "\n",
    "**Output:** [[1,2,3],[8,9,4],[7,6,5]]\n",
    "\n",
    "</aside>"
   ]
  },
  {
   "cell_type": "code",
   "execution_count": 60,
   "id": "614b59e2",
   "metadata": {},
   "outputs": [],
   "source": [
    "def spiral(n):\n",
    "    lst = []\n",
    "    row_start , row_end = 0, n-1\n",
    "    col_start , col_end = 0,n-1\n",
    "    num=1\n",
    "    for i in range(n):\n",
    "        lst.append([0]*n)\n",
    "    while num<=n*n:\n",
    "        for j in range(col_start,col_end+1):\n",
    "            lst[row_start][j]=num\n",
    "            num+=1\n",
    "        row_start+=1\n",
    "        for i in range(row_start,row_end+1):\n",
    "            lst[i][col_end] = num\n",
    "            num+=1\n",
    "        col_end-=1\n",
    "        for j in range(col_end,col_start-1,-1):\n",
    "            lst[row_end][j]=num\n",
    "            num+=1\n",
    "        row_end-=1\n",
    "        for i in range(row_end,row_start-1,-1):\n",
    "            lst[i][col_start]=num\n",
    "            num+=1\n",
    "        col_start+=1\n",
    "    return lst"
   ]
  },
  {
   "cell_type": "code",
   "execution_count": 61,
   "id": "0709ddda",
   "metadata": {},
   "outputs": [
    {
     "data": {
      "text/plain": [
       "[[1, 2, 3], [8, 9, 4], [7, 6, 5]]"
      ]
     },
     "execution_count": 61,
     "metadata": {},
     "output_type": "execute_result"
    }
   ],
   "source": [
    "spiral(3)"
   ]
  },
  {
   "cell_type": "markdown",
   "id": "d57031a5",
   "metadata": {},
   "source": [
    "<aside>\n",
    "💡 **Question 8**\n",
    "\n",
    "Given two [sparse matrices](https://en.wikipedia.org/wiki/Sparse_matrix) mat1 of size m x k and mat2 of size k x n, return the result of mat1 x mat2. You may assume that multiplication is always possible.\n",
    "\n",
    "**Example 1:**\n",
    "\n",
    "**Input:** mat1 = [[1,0,0],[-1,0,3]], mat2 = [[7,0,0],[0,0,0],[0,0,1]]\n",
    "\n",
    "**Output:**\n",
    "\n",
    "[[7,0,0],[-7,0,3]]"
   ]
  },
  {
   "cell_type": "code",
   "execution_count": 79,
   "id": "21344934",
   "metadata": {},
   "outputs": [],
   "source": [
    "def matrixMul(mat1,mat2):\n",
    "    matrix = [[0]*len(mat2[0]) for _ in range(len(mat1))]\n",
    "    for i in range(len(mat1)):\n",
    "        for j in range(len(mat2[0])):\n",
    "            for k in range(len(mat2[0])):\n",
    "                matrix[i][j]+=mat1[i][k]*mat2[k][j]\n",
    "    return matrix\n",
    "            "
   ]
  },
  {
   "cell_type": "code",
   "execution_count": 80,
   "id": "9912757d",
   "metadata": {},
   "outputs": [],
   "source": [
    "mat1 = [[1,0,0],[-1,0,3]]\n",
    "mat2 = [[7,0,0],[0,0,0],[0,0,1]]"
   ]
  },
  {
   "cell_type": "code",
   "execution_count": 81,
   "id": "ce48cc8c",
   "metadata": {},
   "outputs": [
    {
     "data": {
      "text/plain": [
       "[[7, 0, 0], [-7, 0, 3]]"
      ]
     },
     "execution_count": 81,
     "metadata": {},
     "output_type": "execute_result"
    }
   ],
   "source": [
    "matrixMul(mat1,mat2)"
   ]
  },
  {
   "cell_type": "code",
   "execution_count": null,
   "id": "f80be207",
   "metadata": {},
   "outputs": [],
   "source": []
  },
  {
   "cell_type": "code",
   "execution_count": null,
   "id": "5cb7b53a",
   "metadata": {},
   "outputs": [],
   "source": []
  }
 ],
 "metadata": {
  "kernelspec": {
   "display_name": "Python 3 (ipykernel)",
   "language": "python",
   "name": "python3"
  },
  "language_info": {
   "codemirror_mode": {
    "name": "ipython",
    "version": 3
   },
   "file_extension": ".py",
   "mimetype": "text/x-python",
   "name": "python",
   "nbconvert_exporter": "python",
   "pygments_lexer": "ipython3",
   "version": "3.9.6"
  }
 },
 "nbformat": 4,
 "nbformat_minor": 5
}
