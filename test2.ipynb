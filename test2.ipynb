{
 "cells": [
  {
   "cell_type": "code",
   "execution_count": 41,
   "id": "48ae855f",
   "metadata": {},
   "outputs": [],
   "source": [
    " lst1 = [9,9,9,9,9,9,9]\n",
    "lst2 = [9,9,9,9] "
   ]
  },
  {
   "cell_type": "code",
   "execution_count": 60,
   "id": "a542c294",
   "metadata": {},
   "outputs": [],
   "source": [
    "class ListNode:\n",
    "    def __init__(self, val=0, next=None):\n",
    "        self.val = val\n",
    "        self.next = next\n",
    "\n",
    "# Create linked list 1\n",
    "head1 = ListNode(lst1[0])\n",
    "current1 = head1\n",
    "for num in lst1[1:]:\n",
    "    current1.next = ListNode(num)\n",
    "    current1 = current1.next\n",
    "\n",
    "# Create linked list 2\n",
    "head2 = ListNode(lst2[0])\n",
    "current2 = head2\n",
    "for num in lst2[1:]:\n",
    "    current2.next = ListNode(num)\n",
    "    current2 = current2.next\n"
   ]
  },
  {
   "cell_type": "code",
   "execution_count": 58,
   "id": "40c8237a",
   "metadata": {},
   "outputs": [
    {
     "name": "stdout",
     "output_type": "stream",
     "text": [
      "[1, 0, 0, 0, 9, 9, 9, 8]\n"
     ]
    }
   ],
   "source": [
    "def addTwoNumbers(l1, l2):\n",
    "    dummy = ListNode()\n",
    "    current = dummy\n",
    "    carry = 0\n",
    "\n",
    "    while l1 or l2 or carry:\n",
    "        sum_val = carry\n",
    "        if l1:\n",
    "            sum_val += l1.val\n",
    "            l1 = l1.next\n",
    "        if l2:\n",
    "            sum_val += l2.val\n",
    "            l2 = l2.next\n",
    "\n",
    "        digit = sum_val % 10\n",
    "        carry = sum_val // 10\n",
    "\n",
    "        # Create a new node with the digit and attach it to the result list\n",
    "        current.next = ListNode(digit)\n",
    "        current = current.next\n",
    "\n",
    "    return dummy.next\n",
    "\n",
    "# Add lst1 and lst2\n",
    "result = addTwoNumbers(head1, head2)\n",
    "\n",
    "# Retrieve the resulting linked list values\n",
    "output = []\n",
    "while result:\n",
    "    output.append(result.val)\n",
    "    result = result.next\n",
    "\n",
    "# Reverse the list to get the correct order\n",
    "output.reverse()\n",
    "\n",
    "# Print the result\n",
    "print(output)\n"
   ]
  },
  {
   "cell_type": "code",
   "execution_count": 42,
   "id": "dc5dd096",
   "metadata": {},
   "outputs": [
    {
     "data": {
      "text/plain": [
       "<__main__.ListNode at 0x1b229dfdee0>"
      ]
     },
     "execution_count": 42,
     "metadata": {},
     "output_type": "execute_result"
    }
   ],
   "source": [
    "addTwoNumbers(1, lst2)"
   ]
  },
  {
   "cell_type": "code",
   "execution_count": null,
   "id": "be6cd53a",
   "metadata": {},
   "outputs": [],
   "source": []
  },
  {
   "cell_type": "code",
   "execution_count": null,
   "id": "bf5139a9",
   "metadata": {},
   "outputs": [],
   "source": []
  }
 ],
 "metadata": {
  "kernelspec": {
   "display_name": "Python 3 (ipykernel)",
   "language": "python",
   "name": "python3"
  },
  "language_info": {
   "codemirror_mode": {
    "name": "ipython",
    "version": 3
   },
   "file_extension": ".py",
   "mimetype": "text/x-python",
   "name": "python",
   "nbconvert_exporter": "python",
   "pygments_lexer": "ipython3",
   "version": "3.9.6"
  }
 },
 "nbformat": 4,
 "nbformat_minor": 5
}
